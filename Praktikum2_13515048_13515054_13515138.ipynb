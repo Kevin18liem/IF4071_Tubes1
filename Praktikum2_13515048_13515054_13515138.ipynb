{
 "cells": [
  {
   "cell_type": "markdown",
   "metadata": {},
   "source": [
    "# Praktikum 2\n",
    "## Feed Forward Neural Network\n",
    "\n",
    "\n",
    "___Alvin Sullivan 13515048___\n",
    "\n",
    "___Albertus Djauhari Djohan 13515054___\n",
    "\n",
    "___Kevin 13515138___"
   ]
  },
  {
   "cell_type": "markdown",
   "metadata": {},
   "source": [
    "### Multi Layer Neural Network"
   ]
  },
  {
   "cell_type": "markdown",
   "metadata": {},
   "source": [
    "#### Implementasi Algoritma Backpropagation\n",
    "\n"
   ]
  },
  {
   "cell_type": "code",
   "execution_count": 52,
   "metadata": {},
   "outputs": [],
   "source": [
    "from __future__ import division\n",
    "import numpy as np\n",
    "import pandas as pd\n",
    "from sklearn import preprocessing\n",
    "from sklearn.model_selection import train_test_split\n",
    "from sklearn.preprocessing import StandardScaler\n",
    "from keras.models import Sequential\n",
    "from keras.layers import Dense\n",
    "from keras import optimizers\n",
    "from keras.layers import Dropout\n",
    "import keras"
   ]
  },
  {
   "cell_type": "code",
   "execution_count": 53,
   "metadata": {},
   "outputs": [],
   "source": [
    "var_nodes = [3, 2, 1]\n",
    "var_epoch = 10\n",
    "var_momentum = 0.001\n",
    "var_learning_rate = 0.5"
   ]
  },
  {
   "cell_type": "markdown",
   "metadata": {},
   "source": [
    "#### Eksekusi Dataset\n",
    "\n",
    "- Membaca dataset\n",
    "- Praproses Data (Continuous dan Kategorikal)\n",
    "    - Kategorikal menggunakan StandardScaler"
   ]
  },
  {
   "cell_type": "code",
   "execution_count": 54,
   "metadata": {},
   "outputs": [
    {
     "name": "stdout",
     "output_type": "stream",
     "text": [
      "X_train\n",
      "[[1 0 1 ... 0 0 0]\n",
      " [0 1 1 ... 0 0 0]\n",
      " [0 1 1 ... 0 0 0]\n",
      " ...\n",
      " [0 0 0 ... 0 0 0]\n",
      " [0 0 0 ... 0 0 0]\n",
      " [0 0 0 ... 0 0 0]]\n",
      "X_test\n",
      "[[0 0 0 ... 0 0 0]\n",
      " [0 1 0 ... 0 0 0]\n",
      " [0 0 0 ... 0 0 0]\n",
      " ...\n",
      " [1 0 0 ... 0 0 1]\n",
      " [0 0 0 ... 0 0 0]\n",
      " [0 0 0 ... 0 0 0]]\n",
      "y_train\n",
      "[ 8 10 15 ...  7  6 10]\n",
      "y_test\n",
      "[10  8  5 ... 10  8 10]\n"
     ]
    }
   ],
   "source": [
    "file = \"dataset/data_training_praktikum.csv\"\n",
    "data = pd.read_csv(file)\n",
    "\n",
    "#Handle Categorical Data\n",
    "le = preprocessing.LabelEncoder()\n",
    "data['loc'] = le.fit_transform(data['loc'])\n",
    "data['struct1'] = le.fit_transform(data['struct1'])\n",
    "data['struct2'] = le.fit_transform(data['struct2'])\n",
    "data['struct3'] = le.fit_transform(data['struct3'])\n",
    "data['cit1'] = le.fit_transform(data['cit1'])\n",
    "data['cit2'] = le.fit_transform(data['cit2'])\n",
    "data['labelclass'] = le.fit_transform(data['labelclass'])\n",
    "data = data.values\n",
    "X = data[:, 0:-1]\n",
    "y = data[:, -1]\n",
    "\n",
    "X_train, X_test, y_train, y_test = train_test_split(X, y, \n",
    "                                                    test_size=0.1, \n",
    "                                                    random_state=43)\n",
    "\n",
    "print('X_train')\n",
    "print(X_train)\n",
    "\n",
    "print('X_test')\n",
    "print(X_test)\n",
    "\n",
    "print('y_train')\n",
    "print(y_train)\n",
    "\n",
    "print('y_test')\n",
    "print(y_test)"
   ]
  },
  {
   "cell_type": "code",
   "execution_count": 55,
   "metadata": {},
   "outputs": [],
   "source": [
    "class MultiLayerNN:\n",
    "\n",
    "    def __init__(self, data, hidden_node, output_node,\n",
    "        num_batch, learning_rate_const, tolerance_const,\n",
    "        **kwargs):\n",
    "        \n",
    "        self.instance = data\n",
    "        self.w_hidden_node = hidden_node\n",
    "        self.w_output_node = output_node\n",
    "        # Gradient Descent Parameters\n",
    "        self.batch_size = num_batch\n",
    "        self.learning_rate = learning_rate_const\n",
    "        self.tolerance = tolerance_const\n",
    "        self.momentum = kwargs.get('momentum', 0)\n",
    "        self.epochs = kwargs.get('epochs', 10)\n",
    "       \n",
    "    def train(self, instance_target):\n",
    "        instance_target_t = np.array([instance_target]).T\n",
    "        batch_iteration = int(np.ceil(self.instance.shape[0] / self.batch_size))\n",
    "        old_loss = -np.inf\n",
    "        for step in range(self.epochs):\n",
    "            loss = 0\n",
    "            for i in range(batch_iteration):\n",
    "                start_index = i * self.batch_size\n",
    "                end_index = i * self.batch_size + self.batch_size\n",
    "                if end_index > len(instance_target_t):\n",
    "                    end_index = len(instance_target_t)\n",
    "                o_out = self.gradient_descent(self.instance[start_index:end_index:1], \n",
    "                                              instance_target_t[start_index:end_index:1])\n",
    "                loss = loss + self.loss_function(o_out, \n",
    "                                            instance_target_t[start_index:end_index:1])\n",
    "        # Print Loss\n",
    "            print (\"Loss after epoch %i: %f\" % (step, loss/self.instance.shape[0]))\n",
    "            \n",
    "            if np.abs(loss - old_loss) < self.tolerance:\n",
    "                break\n",
    "            old_loss = loss\n",
    "    \n",
    "    def feed_forward(self, instance):\n",
    "        s = list()\n",
    "        o = list()\n",
    "        # Feed Forward Hidden Node\n",
    "        s_temp = instance.dot(self.w_hidden_node[0].T)\n",
    "        o_temp = self.sigmoid(s_temp)\n",
    "        s.append(s_temp)\n",
    "        o.append(o_temp)\n",
    "        iteration = len(self.w_hidden_node)\n",
    "        for i in range(1,iteration):\n",
    "            s_temp = o[i-1].dot(self.w_hidden_node[i].T)\n",
    "            o_temp = self.sigmoid(s_temp)\n",
    "            o.append(o_temp)\n",
    "        # Feed Forward Output Node\n",
    "        s_out = o[-1].dot(self.w_output_node.T)\n",
    "        o_out = self.sigmoid(s_out)\n",
    "        return s, o, s_out, o_out\n",
    "\n",
    "    def sigmoid(self, X):\n",
    "        output = 1 / (1 + np.exp(-X))\n",
    "        return np.matrix(output)\n",
    "\n",
    "    def loss_function(self, o_out, instance_target):\n",
    "        \n",
    "        squared_error = np.square(instance_target - o_out)\n",
    "        data_loss = np.sum(squared_error)      \n",
    "        return data_loss    \n",
    "    def back_propagation(self, instance_target, o, o_out):\n",
    "        d = list()\n",
    "        # Back Propagation Output Node\n",
    "        d_temp = np.multiply(np.multiply(o_out, 1-o_out), instance_target-o_out)\n",
    "        d.insert(0, d_temp)\n",
    "        # Back Propagation Hidden Node\n",
    "        d_temp = np.multiply(np.multiply(o[-1], 1-o[-1]), \n",
    "                             (self.w_output_node.T.dot(d[0].T)).T)\n",
    "        d.insert(0, d_temp)\n",
    "        iteration = len(self.w_hidden_node)\n",
    "        for i in range(iteration-1, 0, -1):\n",
    "            d_temp = np.multiply(np.multiply(o[i-1], 1-o[i-1]), \n",
    "                                 (self.w_hidden_node[i].T.dot(d[0].T)).T)\n",
    "            d.insert(0, d_temp)\n",
    "        return d\n",
    "\n",
    "    def update_weight(self, instance, o, d):\n",
    "        # Update Weight Output Node\n",
    "        self.w_output_node[0] = self.w_output_node[0] \\\n",
    "        + self.momentum * self.w_output_node[0] \\\n",
    "        + self.learning_rate * d[-1].T.dot(o[-1])\n",
    "        # Update Weight Hidden Node\n",
    "        iteration = len(self.w_hidden_node)\n",
    "        for i in range(iteration-1, 0, -1):\n",
    "            self.w_hidden_node[i] = self.w_hidden_node[i] \\\n",
    "            + self.momentum * self.w_hidden_node[i] \\\n",
    "            + self.learning_rate * d[i].T.dot(o[i-1])\n",
    "        self.w_hidden_node[0] = self.w_hidden_node[0] \\\n",
    "        + self.momentum * self.w_hidden_node[0] \\\n",
    "        + self.learning_rate * d[0].T.dot(instance)\n",
    "    def gradient_descent(self, instance, instance_target):\n",
    "        # Feed Forward\n",
    "        _,o,_,o_out = self.feed_forward(instance)\n",
    "        # Back Propagation      \n",
    "        d = self.back_propagation(instance_target, o, o_out)\n",
    "        # Update Weight\n",
    "        self.update_weight(instance, o, d)\n",
    "        return o_out\n",
    "    def predict(self, instance):\n",
    "        _,_,s_out,o_out = self.feed_forward(instance)\n",
    "        return o_out"
   ]
  },
  {
   "cell_type": "markdown",
   "metadata": {},
   "source": [
    "#### Implementasi Keras\n",
    "\n"
   ]
  },
  {
   "cell_type": "code",
   "execution_count": 56,
   "metadata": {},
   "outputs": [],
   "source": [
    "model = Sequential()\n",
    "\n",
    "for i in range(0,len(var_nodes)):\n",
    "    if i == 0:\n",
    "        model.add(Dense(units=var_nodes[i], activation='sigmoid', \n",
    "                        input_dim=X_train.shape[1]))\n",
    "    else:\n",
    "        model.add(Dense(units=var_nodes[i], activation='sigmoid'))\n",
    "        \n",
    "sgd = optimizers.SGD(lr=var_learning_rate, decay=0, \n",
    "                     momentum=var_momentum, nesterov=False)\n",
    "\n",
    "model.compile(optimizer=sgd,\n",
    "              loss='mean_squared_error',\n",
    "              metrics=['accuracy'])"
   ]
  },
  {
   "cell_type": "markdown",
   "metadata": {},
   "source": [
    "### Perbandingan Hasil Algoritma Backpropagation dan Keras"
   ]
  },
  {
   "cell_type": "markdown",
   "metadata": {},
   "source": [
    "#### Inisialisasi bobot awal hidden node dan output node"
   ]
  },
  {
   "cell_type": "code",
   "execution_count": 57,
   "metadata": {},
   "outputs": [
    {
     "name": "stdout",
     "output_type": "stream",
     "text": [
      "Matriks weight hidden node:\n",
      " [array([[ 1.0184761 ,  0.23103087,  0.56507464,  1.29378029,  1.07823511,\n",
      "        -0.56423165,  0.5485338 , -0.08738612, -0.05959343,  0.23705916,\n",
      "         0.08316359,  0.8396252 ,  0.43938534,  0.0702491 ,  0.25626456,\n",
      "         0.19264696,  0.86260696, -0.11844818,  0.18074972, -0.4931124 ,\n",
      "        -1.47396936,  0.37736687,  0.49908247, -0.42848917,  1.31044344,\n",
      "        -0.83967841,  0.02641869, -0.10807065,  0.88495049,  0.84833468,\n",
      "         0.08945894,  0.21833223, -0.51256334, -1.14361337, -0.20086717,\n",
      "         0.09026812,  0.71030866,  0.69419433, -0.22362324, -0.17453457,\n",
      "        -0.60538234, -0.81984774, -0.98511555,  1.1262807 , -0.29424782,\n",
      "        -0.25292232, -0.72330174,  0.44888427, -0.93178436, -0.12282566,\n",
      "        -0.51699786,  0.22337826, -0.29491348, -0.68163831, -0.01627102,\n",
      "         0.24729752,  0.03840374,  0.17463223, -0.36622603],\n",
      "       [-0.20942871, -0.38824522, -0.20758811, -0.46947022, -0.99666973,\n",
      "         0.10243703, -0.23196833, -0.94119545,  0.26718746, -0.52382895,\n",
      "         0.02999069,  0.42094063,  0.07446832,  0.65783329, -0.71292702,\n",
      "         0.23229205, -0.39537529, -0.50275497, -0.33419901, -0.17987494,\n",
      "         0.03242708, -0.67269957,  0.52009241,  0.26885033, -0.88695071,\n",
      "         0.8592428 ,  1.09459213,  0.6805687 , -0.10387965, -0.61819931,\n",
      "         0.60878799, -0.23277432,  0.70577899,  0.12024761,  0.56386281,\n",
      "         0.20574824,  0.40794021,  0.00606219,  1.03107281,  0.07327273,\n",
      "         0.23208867,  1.08723756, -0.77812906, -0.73351486,  0.55968145,\n",
      "        -0.67730311,  1.12215021, -0.23880303, -0.43154324,  1.1102111 ,\n",
      "         0.85477561,  1.07823567,  0.52310513, -0.49722888,  1.10277651,\n",
      "        -0.15473182,  0.46329842,  0.54689618, -0.08949512],\n",
      "       [ 0.35453889,  0.53243627,  0.21732938, -0.63473934,  0.17218789,\n",
      "         0.76578925, -0.40100894, -0.08639154, -0.25123602,  1.06767291,\n",
      "         0.38814956,  0.2352482 , -0.44451125,  0.31133567, -0.38932614,\n",
      "         0.01837738, -0.3671059 ,  0.39053894,  0.33289486, -0.12026134,\n",
      "         0.22863458, -0.63107936, -0.86097797,  0.25368292,  0.09622899,\n",
      "         0.36663557,  1.37590928,  0.54529549, -0.52701816,  0.64490965,\n",
      "        -0.7597395 , -0.266496  , -0.03939931,  0.98919888, -0.4299844 ,\n",
      "        -0.47714451, -0.05684159, -0.38305937,  0.65046355, -0.62349875,\n",
      "        -0.66249134, -0.25277552, -0.28753917,  1.11401585,  0.54814836,\n",
      "         0.05054773, -0.70750553,  0.48749319, -0.5774746 , -0.89187401,\n",
      "         0.68590932,  0.1829869 ,  0.53165809,  0.1840175 ,  0.49469138,\n",
      "        -0.3758698 , -0.59712038,  0.39351878, -0.46384879]]), array([[-0.48758532, -0.32211012,  0.01235963],\n",
      "       [-0.2503115 , -0.97223738, -0.45510694]])]\n",
      "Matriks weight output node:\n",
      " [[-2.22340315  0.62523145]]\n"
     ]
    }
   ],
   "source": [
    "np.random.seed(0)\n",
    "w_hidden_node = list()\n",
    "for i in range(0,len(var_nodes)-1):\n",
    "    if i == 0:\n",
    "        w_temp = np.random.randn(var_nodes[i],\n",
    "                                 X_train.shape[1]) / np.sqrt(var_nodes[i])\n",
    "    else:\n",
    "        w_temp = np.random.randn(var_nodes[i], \n",
    "                                 var_nodes[i-1]) / np.sqrt(var_nodes[i])\n",
    "    w_hidden_node.append(w_temp)\n",
    "\n",
    "w_output_node = np.random.randn(var_nodes[-1], var_nodes[-2])\n",
    "\n",
    "print('Matriks weight hidden node:\\n', w_hidden_node)\n",
    "print('Matriks weight output node:\\n', w_output_node)"
   ]
  },
  {
   "cell_type": "markdown",
   "metadata": {},
   "source": [
    "#### Implementasi Mini-Batch (Batch_size = 1)"
   ]
  },
  {
   "cell_type": "code",
   "execution_count": 58,
   "metadata": {},
   "outputs": [],
   "source": [
    "var_batch = 1"
   ]
  },
  {
   "cell_type": "markdown",
   "metadata": {},
   "source": [
    "##### Classifier Backpropagation"
   ]
  },
  {
   "cell_type": "code",
   "execution_count": 59,
   "metadata": {
    "scrolled": true
   },
   "outputs": [
    {
     "name": "stderr",
     "output_type": "stream",
     "text": [
      "/home/sulley/.local/lib/python3.6/site-packages/ipykernel_launcher.py:58: RuntimeWarning: overflow encountered in exp\n"
     ]
    },
    {
     "name": "stdout",
     "output_type": "stream",
     "text": [
      "Loss after epoch 0: 78.083254\n",
      "Loss after epoch 1: 78.078503\n",
      "Loss after epoch 2: 78.078503\n",
      "Matriks weight hidden node:\n",
      " [matrix([[ 5.85450726e+14,  1.39303178e+14,  3.24848413e+14,\n",
      "          7.43780363e+14,  6.28107856e+14, -3.10157264e+14,\n",
      "          3.15980917e+14, -4.96233090e+13, -2.65344465e+13,\n",
      "          1.59414248e+14,  5.01266697e+13,  4.83689182e+14,\n",
      "          2.52550371e+14,  3.99248125e+13,  1.47296015e+14,\n",
      "          1.10729826e+14,  4.95811616e+14, -6.80817702e+13,\n",
      "          1.03432401e+14, -2.83431673e+14, -8.47666012e+14,\n",
      "          2.16893522e+14,  2.86860489e+14, -2.46258155e+14,\n",
      "          7.53218076e+14, -4.82631066e+14,  1.51849641e+13,\n",
      "         -6.21169610e+13,  5.08654938e+14,  4.87606711e+14,\n",
      "          5.14198092e+13,  1.25493250e+14, -2.94640389e+14,\n",
      "         -6.57327312e+14, -1.15454647e+14,  5.18844057e+13,\n",
      "          4.08271965e+14,  3.99009755e+14, -1.28534405e+14,\n",
      "         -1.00319168e+14, -3.47962303e+14, -4.71232955e+14,\n",
      "         -5.66225766e+14,  6.47364819e+14, -1.69128077e+14,\n",
      "         -1.45374958e+14, -4.15740143e+14,  2.58010176e+14,\n",
      "         -5.35572004e+14, -7.05978624e+13, -2.97160580e+14,\n",
      "          1.28393595e+14, -1.69510686e+14, -3.91792793e+14,\n",
      "         -9.35227253e+12,  1.42141932e+14,  2.20737404e+13,\n",
      "          1.00375300e+14, -2.08906035e+14],\n",
      "        [-1.20546456e+14, -2.24199856e+14, -1.20032980e+14,\n",
      "         -2.75818813e+14, -5.74854989e+14,  5.52417040e+13,\n",
      "         -1.44525093e+14, -5.41089758e+14,  1.51253837e+14,\n",
      "         -3.08068339e+14,  1.62056737e+13,  2.41797129e+14,\n",
      "          4.28029791e+13,  3.77584431e+14, -4.09776951e+14,\n",
      "          1.33517074e+14, -2.27254888e+14, -2.88974036e+14,\n",
      "         -1.92053415e+14, -1.03388708e+14,  1.86699138e+13,\n",
      "         -3.86655977e+14,  2.98937347e+14,  1.54477911e+14,\n",
      "         -5.09802470e+14,  4.93835376e+14,  6.29150827e+14,\n",
      "          3.91178003e+14, -5.97187784e+13, -3.55329259e+14,\n",
      "          3.49915302e+14, -1.33798106e+14,  4.05635891e+14,\n",
      "          6.91160519e+13,  3.24097666e+14,  1.18260190e+14,\n",
      "          2.34476307e+14,  3.48443190e+12,  5.92641127e+14,\n",
      "          4.21157782e+13,  1.33400171e+14,  6.24923562e+14,\n",
      "         -4.47253847e+14, -4.21610449e+14,  3.21694299e+14,\n",
      "         -3.89301004e+14,  6.44990694e+14, -1.37259460e+14,\n",
      "         -2.48042881e+14,  6.38128315e+14,  4.91308836e+14,\n",
      "          6.19749445e+14,  3.00670922e+14, -2.85797745e+14,\n",
      "          6.33855058e+14, -8.89369192e+13,  2.66295156e+14,\n",
      "          3.14345567e+14, -5.16079993e+13],\n",
      "        [ 1.99349485e+14,  2.86150754e+14,  1.02460597e+14,\n",
      "         -5.05796979e+14,  6.62826061e+11,  3.99588279e+14,\n",
      "         -3.79697864e+14, -5.01408353e+13, -1.68982839e+14,\n",
      "          5.39644296e+14,  2.04256380e+14,  1.35119756e+14,\n",
      "         -2.55496667e+14,  1.77906502e+14, -2.23777295e+14,\n",
      "          1.05629708e+13, -2.11018084e+14,  2.24474390e+14,\n",
      "          1.91341398e+14, -6.91239424e+13,  1.31345769e+14,\n",
      "         -3.62736826e+14, -4.94895057e+14,  1.45634276e+14,\n",
      "          5.53105998e+13,  2.10670046e+14,  7.90846598e+14,\n",
      "          3.13425520e+14, -3.02955697e+14,  3.70681857e+14,\n",
      "         -4.36684505e+14, -1.53177936e+14, -2.26970417e+13,\n",
      "          5.68572785e+14, -2.47146889e+14, -2.74253631e+14,\n",
      "         -3.26714704e+13, -2.20175271e+14,  3.73874133e+14,\n",
      "         -3.58375273e+14, -3.80787474e+14, -1.45290583e+14,\n",
      "         -1.65272070e+14,  6.40315216e+14,  3.15065297e+14,\n",
      "          2.90538796e+13, -4.06660779e+14,  2.80201855e+14,\n",
      "         -3.31921465e+14, -5.12632291e+14,  3.94247689e+14,\n",
      "          1.05177406e+14,  3.05587002e+14,  1.05769772e+14,\n",
      "          2.84339240e+14, -2.16042844e+14, -3.43213489e+14,\n",
      "          2.26187142e+14, -2.66729936e+14]]), matrix([[-1.30453031e+15, -1.85804921e+14, -1.40668567e+14],\n",
      "        [ 1.64895989e+15, -5.56193269e+14, -1.34786876e+14]])]\n",
      "Matriks weight output node:\n",
      " [[-4.14997642e+14  3.75639692e+15]]\n",
      "Hasil Prediksi Train Test: \n",
      "[[1.]\n",
      " [1.]\n",
      " [1.]\n",
      " ...\n",
      " [1.]\n",
      " [1.]\n",
      " [1.]]\n"
     ]
    }
   ],
   "source": [
    "multiLayerNN = MultiLayerNN(X_train, w_hidden_node, w_output_node, var_batch, \n",
    "                            var_learning_rate, 1e-6, \n",
    "                            momentum = var_momentum, epochs = var_epoch)\n",
    "multiLayerNN.train(y_train)\n",
    "print('Matriks weight hidden node:\\n', multiLayerNN.w_hidden_node)\n",
    "print('Matriks weight output node:\\n', multiLayerNN.w_output_node)\n",
    "\n",
    "y_test_res = multiLayerNN.predict(X_test)\n",
    "print(\"Hasil Prediksi Train Test: \")\n",
    "print(y_test_res)"
   ]
  },
  {
   "cell_type": "markdown",
   "metadata": {},
   "source": [
    "##### Classifier menggunakan keras"
   ]
  },
  {
   "cell_type": "code",
   "execution_count": 60,
   "metadata": {
    "scrolled": true
   },
   "outputs": [
    {
     "name": "stdout",
     "output_type": "stream",
     "text": [
      "Epoch 1/10\n",
      "11334/11334 [==============================] - 9s 754us/step - loss: 78.0757 - acc: 0.0087\n",
      "Epoch 2/10\n",
      "11334/11334 [==============================] - 9s 820us/step - loss: 78.0750 - acc: 0.0087\n",
      "Epoch 3/10\n",
      "11334/11334 [==============================] - 11s 933us/step - loss: 78.0750 - acc: 0.0087\n",
      "Epoch 4/10\n",
      "11334/11334 [==============================] - 15s 1ms/step - loss: 78.0750 - acc: 0.0087\n",
      "Epoch 5/10\n",
      "11334/11334 [==============================] - 11s 1ms/step - loss: 78.0750 - acc: 0.0087\n",
      "Epoch 6/10\n",
      "11334/11334 [==============================] - 14s 1ms/step - loss: 78.0750 - acc: 0.0087\n",
      "Epoch 7/10\n",
      "11334/11334 [==============================] - 19s 2ms/step - loss: 78.0750 - acc: 0.0087\n",
      "Epoch 8/10\n",
      "11334/11334 [==============================] - 14s 1ms/step - loss: 78.0750 - acc: 0.0087\n",
      "Epoch 9/10\n",
      "11334/11334 [==============================] - 14s 1ms/step - loss: 78.0750 - acc: 0.0087\n",
      "Epoch 10/10\n",
      "11334/11334 [==============================] - 14s 1ms/step - loss: 78.0750 - acc: 0.0087\n",
      "Hasil Prediksi Train Test: \n",
      "[[0.99999964]\n",
      " [0.99999964]\n",
      " [0.99999964]\n",
      " ...\n",
      " [0.99999964]\n",
      " [0.99999964]\n",
      " [0.99999964]]\n",
      "Hasil Pengukuran Perfomansi Train Test: \n",
      "[78.94126984126984, 0.007936507936507936]\n"
     ]
    }
   ],
   "source": [
    "model.fit(X_train, y_train, batch_size=var_batch, epochs=var_epoch, verbose=1)\n",
    "prediction = model.predict(X_test)\n",
    "score = model.evaluate(X_test, y_test, verbose=0)\n",
    "print(\"Hasil Prediksi Train Test: \")\n",
    "print(prediction)\n",
    "print(\"Hasil Pengukuran Perfomansi Train Test: \")\n",
    "print(score)"
   ]
  },
  {
   "cell_type": "markdown",
   "metadata": {},
   "source": [
    "#### Implementasi Mini-Batch (Batch_size = jumlah_data)¶"
   ]
  },
  {
   "cell_type": "code",
   "execution_count": 61,
   "metadata": {},
   "outputs": [],
   "source": [
    "var_batch = X_train.shape[0]"
   ]
  },
  {
   "cell_type": "markdown",
   "metadata": {},
   "source": [
    "##### Classifier Backpropagation"
   ]
  },
  {
   "cell_type": "code",
   "execution_count": 62,
   "metadata": {},
   "outputs": [
    {
     "name": "stdout",
     "output_type": "stream",
     "text": [
      "Loss after epoch 0: 78.078503\n",
      "Loss after epoch 1: 78.078503\n",
      "Matriks weight hidden node:\n",
      " [matrix([[ 5.86622213e+14,  1.39581923e+14,  3.25498434e+14,\n",
      "          7.45268668e+14,  6.29364700e+14, -3.10777889e+14,\n",
      "          3.16613195e+14, -4.97226052e+13, -2.65875419e+13,\n",
      "          1.59733236e+14,  5.02269731e+13,  4.84657044e+14,\n",
      "          2.53055724e+14,  4.00047021e+13,  1.47590754e+14,\n",
      "          1.10951397e+14,  4.96803735e+14, -6.82180018e+13,\n",
      "          1.03639370e+14, -2.83998819e+14, -8.49362192e+14,\n",
      "          2.17327526e+14,  2.87434497e+14, -2.46750917e+14,\n",
      "          7.54725266e+14, -4.83596811e+14,  1.52153492e+13,\n",
      "         -6.22412570e+13,  5.09672756e+14,  4.88582412e+14,\n",
      "          5.15227003e+13,  1.25744362e+14, -2.95229965e+14,\n",
      "         -6.58642624e+14, -1.15685672e+14,  5.19882264e+13,\n",
      "          4.09088917e+14,  3.99808174e+14, -1.28791602e+14,\n",
      "         -1.00519907e+14, -3.48658576e+14, -4.72175892e+14,\n",
      "         -5.67358784e+14,  6.48660196e+14, -1.69466503e+14,\n",
      "         -1.45665853e+14, -4.16572039e+14,  2.58526454e+14,\n",
      "         -5.36643683e+14, -7.07391287e+13, -2.97755198e+14,\n",
      "          1.28650510e+14, -1.69849877e+14, -3.92576770e+14,\n",
      "         -9.37098642e+12,  1.42426358e+14,  2.21179099e+13,\n",
      "          1.00576151e+14, -2.09324056e+14],\n",
      "        [-1.20787670e+14, -2.24648480e+14, -1.20273166e+14,\n",
      "         -2.76370726e+14, -5.76005273e+14,  5.53522426e+13,\n",
      "         -1.44814288e+14, -5.42172478e+14,  1.51556496e+14,\n",
      "         -3.08684784e+14,  1.62381013e+13,  2.42280965e+14,\n",
      "          4.28886279e+13,  3.78339977e+14, -4.10596914e+14,\n",
      "          1.33784242e+14, -2.27709625e+14, -2.89552273e+14,\n",
      "         -1.92437714e+14, -1.03595589e+14,  1.87072723e+13,\n",
      "         -3.87429675e+14,  2.99535521e+14,  1.54787021e+14,\n",
      "         -5.10822585e+14,  4.94823541e+14,  6.30409757e+14,\n",
      "          3.91960750e+14, -5.98382756e+13, -3.56040273e+14,\n",
      "          3.50615483e+14, -1.34065836e+14,  4.06447568e+14,\n",
      "          6.92543531e+13,  3.24746186e+14,  1.18496828e+14,\n",
      "          2.34945494e+14,  3.49140424e+12,  5.93827002e+14,\n",
      "          4.22000519e+13,  1.33667105e+14,  6.26174034e+14,\n",
      "         -4.48148802e+14, -4.22454092e+14,  3.22338010e+14,\n",
      "         -3.90079995e+14,  6.46281320e+14, -1.37534116e+14,\n",
      "         -2.48539214e+14,  6.39405210e+14,  4.92291945e+14,\n",
      "          6.20989563e+14,  3.01272564e+14, -2.86369626e+14,\n",
      "          6.35123402e+14, -8.91148819e+13,  2.66828013e+14,\n",
      "          3.14974573e+14, -5.17112669e+13],\n",
      "        [ 1.99748383e+14,  2.86723342e+14,  1.02665620e+14,\n",
      "         -5.06809078e+14,  6.64152376e+11,  4.00387855e+14,\n",
      "         -3.80457639e+14, -5.02411671e+13, -1.69320974e+14,\n",
      "          5.40724124e+14,  2.04665097e+14,  1.35390130e+14,\n",
      "         -2.56007916e+14,  1.78262493e+14, -2.24225073e+14,\n",
      "          1.05841073e+13, -2.11440331e+14,  2.24923563e+14,\n",
      "          1.91724272e+14, -6.92622594e+13,  1.31608592e+14,\n",
      "         -3.63462662e+14, -4.95885342e+14,  1.45925690e+14,\n",
      "          5.54212763e+13,  2.11091597e+14,  7.92429082e+14,\n",
      "          3.14052684e+14, -3.03561911e+14,  3.71423592e+14,\n",
      "         -4.37558310e+14, -1.53484445e+14, -2.27424585e+13,\n",
      "          5.69710500e+14, -2.47641430e+14, -2.74802412e+14,\n",
      "         -3.27368460e+13, -2.20615841e+14,  3.74622255e+14,\n",
      "         -3.59092382e+14, -3.81549430e+14, -1.45581309e+14,\n",
      "         -1.65602779e+14,  6.41596486e+14,  3.15695742e+14,\n",
      "          2.91120164e+13, -4.07474507e+14,  2.80762539e+14,\n",
      "         -3.32585640e+14, -5.13658069e+14,  3.95036578e+14,\n",
      "          1.05387866e+14,  3.06198482e+14,  1.05981418e+14,\n",
      "          2.84908203e+14, -2.16475146e+14, -3.43900259e+14,\n",
      "          2.26639743e+14, -2.67263663e+14]]), matrix([[-1.30714068e+15, -1.86176716e+14, -1.40950044e+14],\n",
      "        [ 1.65225945e+15, -5.57306211e+14, -1.35056584e+14]])]\n",
      "Matriks weight output node:\n",
      " [[-4.15828053e+14  3.76391347e+15]]\n",
      "Hasil Prediksi Train Test: \n",
      "[[1.]\n",
      " [1.]\n",
      " [1.]\n",
      " ...\n",
      " [1.]\n",
      " [1.]\n",
      " [1.]]\n"
     ]
    },
    {
     "name": "stderr",
     "output_type": "stream",
     "text": [
      "/home/sulley/.local/lib/python3.6/site-packages/ipykernel_launcher.py:58: RuntimeWarning: overflow encountered in exp\n"
     ]
    }
   ],
   "source": [
    "multiLayerNN = MultiLayerNN(X_train, w_hidden_node, w_output_node, var_batch, \n",
    "                            var_learning_rate, 1e-6, \n",
    "                            momentum = var_momentum, epochs = var_epoch)\n",
    "multiLayerNN.train(y_train)\n",
    "print('Matriks weight hidden node:\\n', multiLayerNN.w_hidden_node)\n",
    "print('Matriks weight output node:\\n', multiLayerNN.w_output_node)\n",
    "\n",
    "y_test_res = multiLayerNN.predict(X_test)\n",
    "print(\"Hasil Prediksi Train Test: \")\n",
    "print(y_test_res)"
   ]
  },
  {
   "cell_type": "markdown",
   "metadata": {},
   "source": [
    "##### Classifier menggunakan keras"
   ]
  },
  {
   "cell_type": "code",
   "execution_count": 63,
   "metadata": {},
   "outputs": [
    {
     "name": "stdout",
     "output_type": "stream",
     "text": [
      "Epoch 1/10\n",
      "11334/11334 [==============================] - 0s 11us/step - loss: 78.0750 - acc: 0.0087\n",
      "Epoch 2/10\n",
      "11334/11334 [==============================] - 0s 2us/step - loss: 78.0750 - acc: 0.0087\n",
      "Epoch 3/10\n",
      "11334/11334 [==============================] - 0s 2us/step - loss: 78.0750 - acc: 0.0087\n",
      "Epoch 4/10\n",
      "11334/11334 [==============================] - 0s 2us/step - loss: 78.0750 - acc: 0.0087\n",
      "Epoch 5/10\n",
      "11334/11334 [==============================] - 0s 2us/step - loss: 78.0750 - acc: 0.0087\n",
      "Epoch 6/10\n",
      "11334/11334 [==============================] - 0s 2us/step - loss: 78.0750 - acc: 0.0087\n",
      "Epoch 7/10\n",
      "11334/11334 [==============================] - 0s 2us/step - loss: 78.0750 - acc: 0.0087\n",
      "Epoch 8/10\n",
      "11334/11334 [==============================] - 0s 1us/step - loss: 78.0750 - acc: 0.0087\n",
      "Epoch 9/10\n",
      "11334/11334 [==============================] - 0s 2us/step - loss: 78.0750 - acc: 0.0087\n",
      "Epoch 10/10\n",
      "11334/11334 [==============================] - 0s 2us/step - loss: 78.0750 - acc: 0.0087\n",
      "Hasil Prediksi Train Test: \n",
      "[[0.99999964]\n",
      " [0.99999964]\n",
      " [0.99999964]\n",
      " ...\n",
      " [0.99999964]\n",
      " [0.99999964]\n",
      " [0.99999964]]\n",
      "Hasil Pengukuran Perfomansi Train Test: \n",
      "[78.94126984126984, 0.007936507936507936]\n"
     ]
    }
   ],
   "source": [
    "model.fit(X_train, y_train, batch_size=var_batch, epochs=var_epoch, verbose=1)\n",
    "score = model.evaluate(X_test, y_test, verbose=0)\n",
    "prediction = model.predict(X_test)\n",
    "print(\"Hasil Prediksi Train Test: \")\n",
    "print(prediction)\n",
    "print(\"Hasil Pengukuran Perfomansi Train Test: \")\n",
    "print(score)"
   ]
  },
  {
   "cell_type": "markdown",
   "metadata": {},
   "source": [
    "#### Perbandingan & Analisis Hasil Classifier A dan B\n",
    "\n"
   ]
  },
  {
   "cell_type": "markdown",
   "metadata": {},
   "source": [
    "### Pembagian Tugas\n",
    "1. Alvin Sullivan - 13515048 - \n",
    "2. Albertus Djauhari - 13515054 - \n",
    "3. Kevin - 13515138 - "
   ]
  }
 ],
 "metadata": {
  "kernelspec": {
   "display_name": "Python 3",
   "language": "python",
   "name": "python3"
  },
  "language_info": {
   "codemirror_mode": {
    "name": "ipython",
    "version": 3
   },
   "file_extension": ".py",
   "mimetype": "text/x-python",
   "name": "python",
   "nbconvert_exporter": "python",
   "pygments_lexer": "ipython3",
   "version": "3.6.6"
  }
 },
 "nbformat": 4,
 "nbformat_minor": 2
}
