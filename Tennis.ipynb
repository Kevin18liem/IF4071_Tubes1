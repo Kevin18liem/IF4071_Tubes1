{
 "cells": [
  {
   "cell_type": "code",
   "execution_count": 1,
   "metadata": {},
   "outputs": [
    {
     "name": "stderr",
     "output_type": "stream",
     "text": [
      "Using TensorFlow backend.\n"
     ]
    },
    {
     "name": "stdout",
     "output_type": "stream",
     "text": [
      "X_train\n",
      "[[1 0 0 0]\n",
      " [1 1 0 1]\n",
      " [0 1 1 0]\n",
      " [0 1 0 1]\n",
      " [1 0 0 1]\n",
      " [1 0 1 0]\n",
      " [2 0 1 0]\n",
      " [0 1 0 1]\n",
      " [2 0 0 0]\n",
      " [2 1 1 1]\n",
      " [2 0 0 1]\n",
      " [0 1 1 1]]\n",
      "X_test\n",
      "[[2 1 0 1]\n",
      " [2 0 1 1]]\n",
      "y_train\n",
      "[2 0 1 2 0 2 1 1 2 2 1 0]\n",
      "y_test\n",
      "[1 0]\n"
     ]
    }
   ],
   "source": [
    "import numpy as np\n",
    "import pandas as pd\n",
    "from keras.models import Sequential\n",
    "from keras.layers import Dense\n",
    "from keras import optimizers\n",
    "from keras.layers import Dropout\n",
    "import keras\n",
    "from sklearn import preprocessing\n",
    "from sklearn.model_selection import train_test_split\n",
    "\n",
    "data = pd.read_csv('dataset/weather.csv')\n",
    "\n",
    "data = data.apply(preprocessing.LabelEncoder().fit_transform)\n",
    "\n",
    "data = data.values    \n",
    "\n",
    "X, y = data[:, 1:], data[:, 0]\n",
    "X_train, X_test, y_train, y_test = train_test_split(X, y, test_size=0.1, random_state=42)\n",
    "\n",
    "layer = 4\n",
    "nodes = [4, 3 , 2, 3 ,1]\n",
    "epoch = 10\n",
    "batch = 2\n",
    "\n",
    "print('X_train')\n",
    "print(X_train)\n",
    "\n",
    "print('X_test')\n",
    "print(X_test)\n",
    "\n",
    "print('y_train')\n",
    "print(y_train)\n",
    "\n",
    "print('y_test')\n",
    "print(y_test)"
   ]
  },
  {
   "cell_type": "code",
   "execution_count": 2,
   "metadata": {},
   "outputs": [],
   "source": [
    "\n",
    "model = Sequential()\n",
    "\n",
    "for i in range(0,len(nodes)):\n",
    "    if i == 0:\n",
    "        model.add(Dense(units=nodes[1], activation='sigmoid', input_dim=nodes[0]))\n",
    "        model.add(Dropout(0.1))\n",
    "    elif i == len(nodes)-1:\n",
    "        model.add(Dense(units=1, activation='sigmoid'))\n",
    "    else:\n",
    "        model.add(Dense(units=nodes[i+1], activation='sigmoid'))\n",
    "        model.add(Dropout(0.1))"
   ]
  },
  {
   "cell_type": "code",
   "execution_count": 3,
   "metadata": {},
   "outputs": [],
   "source": [
    "sgd = optimizers.SGD(lr=0.01, decay=1e-6, momentum=0.9, nesterov=True)\n",
    "\n",
    "model.compile(optimizer=sgd,\n",
    "              loss='binary_crossentropy',\n",
    "              metrics=['accuracy'])"
   ]
  },
  {
   "cell_type": "code",
   "execution_count": 4,
   "metadata": {},
   "outputs": [
    {
     "name": "stderr",
     "output_type": "stream",
     "text": [
      "/usr/local/lib/python3.5/dist-packages/ipykernel_launcher.py:1: UserWarning: The `nb_epoch` argument in `fit` has been renamed `epochs`.\n",
      "  \"\"\"Entry point for launching an IPython kernel.\n"
     ]
    },
    {
     "name": "stdout",
     "output_type": "stream",
     "text": [
      "Epoch 1/10\n",
      "12/12 [==============================] - 1s 53ms/step - loss: 0.8748 - acc: 0.2500\n",
      "Epoch 2/10\n",
      "12/12 [==============================] - 0s 2ms/step - loss: 0.6225 - acc: 0.5000\n",
      "Epoch 3/10\n",
      "12/12 [==============================] - 0s 2ms/step - loss: 0.3906 - acc: 0.3333\n",
      "Epoch 4/10\n",
      "12/12 [==============================] - 0s 2ms/step - loss: 0.1713 - acc: 0.3333 \n",
      "Epoch 5/10\n",
      "12/12 [==============================] - 0s 2ms/step - loss: 0.0332 - acc: 0.3333\n",
      "Epoch 6/10\n",
      "12/12 [==============================] - 0s 2ms/step - loss: -0.1095 - acc: 0.3333\n",
      "Epoch 7/10\n",
      "12/12 [==============================] - 0s 2ms/step - loss: -0.1244 - acc: 0.3333\n",
      "Epoch 8/10\n",
      "12/12 [==============================] - 0s 2ms/step - loss: -0.2666 - acc: 0.3333\n",
      "Epoch 9/10\n",
      "12/12 [==============================] - 0s 2ms/step - loss: -0.2966 - acc: 0.3333\n",
      "Epoch 10/10\n",
      "12/12 [==============================] - 0s 2ms/step - loss: -0.4067 - acc: 0.3333\n"
     ]
    },
    {
     "data": {
      "text/plain": [
       "<keras.callbacks.History at 0x7f8952069da0>"
      ]
     },
     "execution_count": 4,
     "metadata": {},
     "output_type": "execute_result"
    }
   ],
   "source": [
    "model.fit(X_train, y_train, batch_size=batch, nb_epoch=epoch, verbose=1)"
   ]
  },
  {
   "cell_type": "code",
   "execution_count": 5,
   "metadata": {},
   "outputs": [
    {
     "name": "stdout",
     "output_type": "stream",
     "text": [
      "[1.493064045906067, 0.5]\n"
     ]
    }
   ],
   "source": [
    "score = model.evaluate(X_test, y_test, verbose=0)\n",
    "print(score)"
   ]
  },
  {
   "cell_type": "code",
   "execution_count": null,
   "metadata": {},
   "outputs": [],
   "source": []
  }
 ],
 "metadata": {
  "kernelspec": {
   "display_name": "Python 3",
   "language": "python",
   "name": "python3"
  },
  "language_info": {
   "codemirror_mode": {
    "name": "ipython",
    "version": 3
   },
   "file_extension": ".py",
   "mimetype": "text/x-python",
   "name": "python",
   "nbconvert_exporter": "python",
   "pygments_lexer": "ipython3",
   "version": "3.5.2"
  }
 },
 "nbformat": 4,
 "nbformat_minor": 2
}
